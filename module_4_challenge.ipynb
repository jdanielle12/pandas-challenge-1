{
 "cells": [
  {
   "cell_type": "markdown",
   "id": "dc0318d6",
   "metadata": {},
   "source": [
    "## Part 1: Explore the Data\n",
    "\n",
    "Import the data and use Pandas to learn more about the dataset."
   ]
  },
  {
   "cell_type": "code",
   "execution_count": 1,
   "id": "e076f57f",
   "metadata": {},
   "outputs": [
    {
     "data": {
      "text/html": [
       "<div>\n",
       "<style scoped>\n",
       "    .dataframe tbody tr th:only-of-type {\n",
       "        vertical-align: middle;\n",
       "    }\n",
       "\n",
       "    .dataframe tbody tr th {\n",
       "        vertical-align: top;\n",
       "    }\n",
       "\n",
       "    .dataframe thead th {\n",
       "        text-align: right;\n",
       "    }\n",
       "</style>\n",
       "<table border=\"1\" class=\"dataframe\">\n",
       "  <thead>\n",
       "    <tr style=\"text-align: right;\">\n",
       "      <th></th>\n",
       "      <th>first</th>\n",
       "      <th>last</th>\n",
       "      <th>job</th>\n",
       "      <th>phone</th>\n",
       "      <th>email</th>\n",
       "      <th>client_id</th>\n",
       "      <th>order_id</th>\n",
       "      <th>order_date</th>\n",
       "      <th>order_week</th>\n",
       "      <th>order_year</th>\n",
       "      <th>item_id</th>\n",
       "      <th>category</th>\n",
       "      <th>subcategory</th>\n",
       "      <th>unit_price</th>\n",
       "      <th>unit_cost</th>\n",
       "      <th>unit_weight</th>\n",
       "      <th>qty</th>\n",
       "      <th>line_number</th>\n",
       "    </tr>\n",
       "  </thead>\n",
       "  <tbody>\n",
       "    <tr>\n",
       "      <th>0</th>\n",
       "      <td>Donald</td>\n",
       "      <td>Harding</td>\n",
       "      <td>Immunologist</td>\n",
       "      <td>793-904-7725x39308</td>\n",
       "      <td>harding.donald.7185@sullivan.com</td>\n",
       "      <td>58515</td>\n",
       "      <td>8953482</td>\n",
       "      <td>2023-04-28</td>\n",
       "      <td>17</td>\n",
       "      <td>2023</td>\n",
       "      <td>EUD29711-63-6U</td>\n",
       "      <td>decor</td>\n",
       "      <td>wall art</td>\n",
       "      <td>1096.80</td>\n",
       "      <td>762.71</td>\n",
       "      <td>7.50</td>\n",
       "      <td>105</td>\n",
       "      <td>1</td>\n",
       "    </tr>\n",
       "    <tr>\n",
       "      <th>1</th>\n",
       "      <td>Tiffany</td>\n",
       "      <td>Myers</td>\n",
       "      <td>Music therapist</td>\n",
       "      <td>201.442.4543x942</td>\n",
       "      <td>myers.t.6537@ferguson-johnson.net</td>\n",
       "      <td>37609</td>\n",
       "      <td>8069089</td>\n",
       "      <td>2023-05-19</td>\n",
       "      <td>20</td>\n",
       "      <td>2023</td>\n",
       "      <td>XDA18116-89-4A</td>\n",
       "      <td>consumables</td>\n",
       "      <td>pens</td>\n",
       "      <td>24.95</td>\n",
       "      <td>15.09</td>\n",
       "      <td>1.49</td>\n",
       "      <td>21</td>\n",
       "      <td>0</td>\n",
       "    </tr>\n",
       "    <tr>\n",
       "      <th>2</th>\n",
       "      <td>Shannon</td>\n",
       "      <td>Watson</td>\n",
       "      <td>Immunologist</td>\n",
       "      <td>687.737.9424x8503</td>\n",
       "      <td>swatson8146@payne.net</td>\n",
       "      <td>57113</td>\n",
       "      <td>1902144</td>\n",
       "      <td>2023-01-29</td>\n",
       "      <td>4</td>\n",
       "      <td>2023</td>\n",
       "      <td>ABE59463-05-7E</td>\n",
       "      <td>software</td>\n",
       "      <td>project management</td>\n",
       "      <td>13.52</td>\n",
       "      <td>7.86</td>\n",
       "      <td>1.68</td>\n",
       "      <td>39</td>\n",
       "      <td>6</td>\n",
       "    </tr>\n",
       "    <tr>\n",
       "      <th>3</th>\n",
       "      <td>Nathan</td>\n",
       "      <td>Baker</td>\n",
       "      <td>Accounting technician</td>\n",
       "      <td>827-788-8123x012</td>\n",
       "      <td>bakernathan@benson.com</td>\n",
       "      <td>46554</td>\n",
       "      <td>9031802</td>\n",
       "      <td>2023-04-25</td>\n",
       "      <td>17</td>\n",
       "      <td>2023</td>\n",
       "      <td>ZMM00836-65-0C</td>\n",
       "      <td>consumables</td>\n",
       "      <td>pens</td>\n",
       "      <td>36.42</td>\n",
       "      <td>24.85</td>\n",
       "      <td>1.23</td>\n",
       "      <td>29</td>\n",
       "      <td>3</td>\n",
       "    </tr>\n",
       "    <tr>\n",
       "      <th>4</th>\n",
       "      <td>Christina</td>\n",
       "      <td>Schwartz</td>\n",
       "      <td>Chiropractor</td>\n",
       "      <td>265-829-3643</td>\n",
       "      <td>christinaschwartz9252@mcconnell.com</td>\n",
       "      <td>92089</td>\n",
       "      <td>1322274</td>\n",
       "      <td>2023-05-28</td>\n",
       "      <td>21</td>\n",
       "      <td>2023</td>\n",
       "      <td>BZX55559-12-3X</td>\n",
       "      <td>consumables</td>\n",
       "      <td>misc</td>\n",
       "      <td>195.10</td>\n",
       "      <td>108.17</td>\n",
       "      <td>46.43</td>\n",
       "      <td>20</td>\n",
       "      <td>1</td>\n",
       "    </tr>\n",
       "  </tbody>\n",
       "</table>\n",
       "</div>"
      ],
      "text/plain": [
       "       first      last                    job               phone  \\\n",
       "0     Donald   Harding           Immunologist  793-904-7725x39308   \n",
       "1    Tiffany     Myers        Music therapist    201.442.4543x942   \n",
       "2    Shannon    Watson           Immunologist   687.737.9424x8503   \n",
       "3     Nathan     Baker  Accounting technician    827-788-8123x012   \n",
       "4  Christina  Schwartz           Chiropractor        265-829-3643   \n",
       "\n",
       "                                 email  client_id  order_id  order_date  \\\n",
       "0     harding.donald.7185@sullivan.com      58515   8953482  2023-04-28   \n",
       "1    myers.t.6537@ferguson-johnson.net      37609   8069089  2023-05-19   \n",
       "2                swatson8146@payne.net      57113   1902144  2023-01-29   \n",
       "3               bakernathan@benson.com      46554   9031802  2023-04-25   \n",
       "4  christinaschwartz9252@mcconnell.com      92089   1322274  2023-05-28   \n",
       "\n",
       "   order_week  order_year         item_id     category         subcategory  \\\n",
       "0          17        2023  EUD29711-63-6U        decor            wall art   \n",
       "1          20        2023  XDA18116-89-4A  consumables                pens   \n",
       "2           4        2023  ABE59463-05-7E     software  project management   \n",
       "3          17        2023  ZMM00836-65-0C  consumables                pens   \n",
       "4          21        2023  BZX55559-12-3X  consumables                misc   \n",
       "\n",
       "   unit_price  unit_cost  unit_weight  qty  line_number  \n",
       "0     1096.80     762.71         7.50  105            1  \n",
       "1       24.95      15.09         1.49   21            0  \n",
       "2       13.52       7.86         1.68   39            6  \n",
       "3       36.42      24.85         1.23   29            3  \n",
       "4      195.10     108.17        46.43   20            1  "
      ]
     },
     "execution_count": 1,
     "metadata": {},
     "output_type": "execute_result"
    }
   ],
   "source": [
    "import pandas as pd\n",
    "\n",
    "df = pd.read_csv('Resources/client_dataset.csv')\n",
    "\n",
    "df.head()"
   ]
  },
  {
   "cell_type": "code",
   "execution_count": 2,
   "id": "71b9bbd2",
   "metadata": {},
   "outputs": [
    {
     "name": "stdout",
     "output_type": "stream",
     "text": [
      "Column Names:\n",
      "Index(['first', 'last', 'job', 'phone', 'email', 'client_id', 'order_id',\n",
      "       'order_date', 'order_week', 'order_year', 'item_id', 'category',\n",
      "       'subcategory', 'unit_price', 'unit_cost', 'unit_weight', 'qty',\n",
      "       'line_number'],\n",
      "      dtype='object')\n"
     ]
    }
   ],
   "source": [
    "print(\"Column Names:\")\n",
    "print(df.columns)\n",
    "\n"
   ]
  },
  {
   "cell_type": "code",
   "execution_count": 37,
   "id": "bc0f4172",
   "metadata": {},
   "outputs": [
    {
     "name": "stdout",
     "output_type": "stream",
     "text": [
      "Basic Statistics:\n",
      "          client_id      order_id    order_week    order_year    unit_price  \\\n",
      "count  54639.000000  5.463900e+04  54639.000000  54639.000000  54639.000000   \n",
      "mean   54837.869416  5.470190e+06     11.359139   2022.993064    136.267207   \n",
      "std    25487.438231  2.599807e+06      7.023499      0.082997    183.873135   \n",
      "min    10033.000000  1.000886e+06      1.000000   2022.000000      0.010000   \n",
      "25%    33593.000000  3.196372e+06      6.000000   2023.000000     20.800000   \n",
      "50%    53305.000000  5.496966e+06     11.000000   2023.000000     68.310000   \n",
      "75%    78498.000000  7.733869e+06     17.000000   2023.000000    173.160000   \n",
      "max    99984.000000  9.998480e+06     52.000000   2023.000000   1396.230000   \n",
      "\n",
      "          unit_cost   unit_weight           qty   line_number      subtotal  \\\n",
      "count  54639.000000  54639.000000  5.463900e+04  54639.000000  5.463900e+04   \n",
      "mean      99.446073      5.004116  5.702646e+02      2.979667  7.710286e+04   \n",
      "std      133.164267      5.326599  1.879552e+04      2.436320  2.881926e+06   \n",
      "min        0.010000      0.000000  0.000000e+00      0.000000  0.000000e+00   \n",
      "25%       14.840000      1.450000  3.200000e+01      1.000000  1.132950e+03   \n",
      "50%       49.890000      3.240000  6.800000e+01      3.000000  4.629440e+03   \n",
      "75%      125.570000      6.890000  1.700000e+02      5.000000  1.736913e+04   \n",
      "max      846.270000     46.430000  3.958244e+06      9.000000  5.844743e+08   \n",
      "\n",
      "       total_weight  shipping_price  shipping_cost   total_price  \\\n",
      "count  5.463900e+04    5.463900e+04   5.463900e+04  5.463900e+04   \n",
      "mean   2.487416e+03    1.742510e+04   1.742510e+04  7.387972e+04   \n",
      "std    5.559430e+04    3.891595e+05   3.891595e+05  2.133294e+06   \n",
      "min    0.000000e+00    0.000000e+00   0.000000e+00  0.000000e+00   \n",
      "25%    7.033000e+01    4.966500e+02   4.966500e+02  2.206360e+03   \n",
      "50%    2.254000e+02    1.577800e+03   1.577800e+03  6.266040e+03   \n",
      "75%    7.184400e+02    5.029080e+03   5.029080e+03  1.946590e+04   \n",
      "max    9.009056e+06    6.306339e+07   6.306339e+07  3.987535e+08   \n",
      "\n",
      "       total_price_with_tax     line_cost   line_profit  \n",
      "count          5.463900e+04  5.463900e+04  5.463900e+04  \n",
      "mean           1.032718e+05  5.645462e+04  2.064823e+04  \n",
      "std            3.286505e+06  1.990502e+06  9.251990e+05  \n",
      "min            0.000000e+00  0.000000e+00  0.000000e+00  \n",
      "25%            2.887565e+03  8.022850e+02  2.470000e+02  \n",
      "50%            8.396485e+03  3.340260e+03  1.062680e+03  \n",
      "75%            2.645605e+04  1.258231e+04  4.221395e+03  \n",
      "max            6.412625e+08  3.962598e+08  1.882145e+08  \n"
     ]
    }
   ],
   "source": [
    "print(\"Basic Statistics:\")\n",
    "print(df.describe())\n",
    "\n"
   ]
  },
  {
   "cell_type": "code",
   "execution_count": 41,
   "id": "b24b53cc",
   "metadata": {},
   "outputs": [
    {
     "name": "stdout",
     "output_type": "stream",
     "text": [
      "Unique Values:\n",
      "first                     360\n",
      "last                      477\n",
      "job                       498\n",
      "phone                     999\n",
      "email                     999\n",
      "client_id                 999\n",
      "order_id                10000\n",
      "order_date                150\n",
      "order_week                 23\n",
      "order_year                  2\n",
      "item_id                   500\n",
      "category                    5\n",
      "subcategory                18\n",
      "unit_price                490\n",
      "unit_cost                 487\n",
      "unit_weight               393\n",
      "qty                      2911\n",
      "line_number                10\n",
      "subtotal                41717\n",
      "total_weight            30079\n",
      "shipping_price          29758\n",
      "shipping_cost           29758\n",
      "total_price             42514\n",
      "total_price_with_tax    42700\n",
      "line_cost               41343\n",
      "line_profit             40918\n",
      "dtype: int64\n"
     ]
    }
   ],
   "source": [
    "\n",
    "unique_values = df.nunique()\n",
    "print(\"Unique Values:\")\n",
    "print(unique_values)\n"
   ]
  },
  {
   "cell_type": "code",
   "execution_count": 42,
   "id": "551cb358",
   "metadata": {},
   "outputs": [
    {
     "name": "stdout",
     "output_type": "stream",
     "text": [
      "Top three item categories with the most entries:\n",
      "category\n",
      "consumables    23538\n",
      "furniture      11915\n",
      "software        8400\n",
      "Name: count, dtype: int64\n"
     ]
    }
   ],
   "source": [
    "top_categories = df['category'].value_counts().head(3)\n",
    "print(\"Top three item categories with the most entries:\")\n",
    "print(top_categories)\n"
   ]
  },
  {
   "cell_type": "code",
   "execution_count": 2,
   "id": "5f54e2cf",
   "metadata": {},
   "outputs": [
    {
     "name": "stdout",
     "output_type": "stream",
     "text": [
      "Subcategory with the most entries in the category with the most entries:\n",
      "subcategory\n",
      "bathroom supplies    6424\n",
      "Name: count, dtype: int64\n"
     ]
    }
   ],
   "source": [
    "most_entries_category = df['category'].value_counts().idxmax()\n",
    "\n",
    "category_df = df[df['category'] == most_entries_category]\n",
    "\n",
    "most_entries_subcategory = category_df['subcategory'].value_counts().head(1)\n",
    "\n",
    "print(\"Subcategory with the most entries in the category with the most entries:\")\n",
    "print(most_entries_subcategory)\n"
   ]
  },
  {
   "cell_type": "code",
   "execution_count": 3,
   "id": "2db94379",
   "metadata": {},
   "outputs": [
    {
     "name": "stdout",
     "output_type": "stream",
     "text": [
      "Top five clients with the most entries:\n",
      "client_id\n",
      "33615    220\n",
      "66037    211\n",
      "46820    209\n",
      "38378    207\n",
      "24741    207\n",
      "Name: count, dtype: int64\n"
     ]
    }
   ],
   "source": [
    "top_clients = df['client_id'].value_counts().head()\n",
    "print(\"Top five clients with the most entries:\")\n",
    "print(top_clients)\n"
   ]
  },
  {
   "cell_type": "code",
   "execution_count": 5,
   "id": "a6635601",
   "metadata": {},
   "outputs": [
    {
     "name": "stdout",
     "output_type": "stream",
     "text": [
      "[33615, 66037, 46820, 38378, 24741]\n"
     ]
    }
   ],
   "source": [
    "top_client_ids = top_clients.index.tolist()\n",
    "print(top_client_ids)\n"
   ]
  },
  {
   "cell_type": "code",
   "execution_count": 46,
   "id": "c88b8a3e",
   "metadata": {},
   "outputs": [
    {
     "name": "stdout",
     "output_type": "stream",
     "text": [
      "Total units ordered by the client with the most entries: 64313\n"
     ]
    }
   ],
   "source": [
    "total_units_top_client = df[df['client_id'] == top_client_ids[0]]['qty'].sum()\n",
    "print(\"Total units ordered by the client with the most entries:\", total_units_top_client)\n"
   ]
  },
  {
   "cell_type": "markdown",
   "id": "257fcd7d",
   "metadata": {},
   "source": [
    "## Part 2: Transform the Data\n",
    "Do we know that this client spent the more money than client 66037? If not, how would we find out? Transform the data using the steps below to prepare it for analysis."
   ]
  },
  {
   "cell_type": "code",
   "execution_count": 10,
   "id": "0c25c4a8",
   "metadata": {},
   "outputs": [
    {
     "name": "stdout",
     "output_type": "stream",
     "text": [
      "   unit_price  qty   subtotal\n",
      "0     1096.80  105  115164.00\n",
      "1       24.95   21     523.95\n"
     ]
    }
   ],
   "source": [
    "# Create a column that calculates the \n",
    "# subtotal for each line using the unit_price\n",
    "# and the qty\n",
    "df['subtotal'] = df['unit_price'] * df['qty']\n",
    "print(df[['unit_price', 'qty', 'subtotal']].head(2))\n",
    "\n"
   ]
  },
  {
   "cell_type": "code",
   "execution_count": 19,
   "id": "ac9dafc8",
   "metadata": {},
   "outputs": [
    {
     "name": "stdout",
     "output_type": "stream",
     "text": [
      "   unit_price  unit_weight  qty  total_weight  shipping_price\n",
      "0     1096.80         7.50  105        787.50         5512.50\n",
      "1       24.95         1.49   21         31.29          312.90\n",
      "2       13.52         1.68   39         65.52          458.64\n",
      "3       36.42         1.23   29         35.67          356.70\n",
      "4      195.10        46.43   20        928.60         6500.20\n"
     ]
    }
   ],
   "source": [
    "# Create a column for shipping price.\n",
    "# Assume a shipping price of $7 per pound\n",
    "# for orders over 50 pounds and $10 per\n",
    "# pound for items 50 pounds or under.\n",
    "\n",
    "def calculate_shipping_cost(total_weight):\n",
    "    if total_weight > 50:\n",
    "        return total_weight * 7  \n",
    "    else:\n",
    "        return total_weight * 10  \n",
    "\n",
    "df['shipping_price'] = df['total_weight'].apply(calculate_shipping_cost)\n",
    "\n",
    "df['total_weight'] = df['unit_weight'] * df['qty']\n",
    "\n",
    "print(df[['unit_price', 'unit_weight', 'qty', 'total_weight', 'shipping_price']].head())\n",
    "\n",
    "\n"
   ]
  },
  {
   "cell_type": "code",
   "execution_count": 45,
   "id": "77f42c67",
   "metadata": {},
   "outputs": [
    {
     "name": "stdout",
     "output_type": "stream",
     "text": [
      "   line_subtotal  shipping_price  line_price  total_price  \\\n",
      "0      115164.00         5512.50   120676.50    120676.50   \n",
      "1         523.95          312.90      836.85       836.85   \n",
      "2         527.28          458.64      985.92       985.92   \n",
      "\n",
      "   total_price_with_tax  \n",
      "0         131839.076250  \n",
      "1            914.258625  \n",
      "2           1077.117600  \n"
     ]
    }
   ],
   "source": [
    "# Create a column for the total price\n",
    "# using the subtotal and the shipping price\n",
    "# along with a sales tax of 9.25%\n",
    "\n",
    "sales_tax_rate = 0.0925\n",
    "\n",
    "df['total_price'] = df['subtotal'] + df['shipping_price']\n",
    "df['total_price_with_tax'] = df['total_price'] * (1 + sales_tax_rate)\n",
    "df['line_price'] = df['line_subtotal'] + df['shipping_price']\n",
    "\n",
    "print(df[['line_subtotal', 'shipping_price', 'line_price', 'total_price', 'total_price_with_tax']].head(3))\n",
    "\n"
   ]
  },
  {
   "cell_type": "code",
   "execution_count": 43,
   "id": "c82ad275",
   "metadata": {},
   "outputs": [
    {
     "name": "stdout",
     "output_type": "stream",
     "text": [
      "  first    last             job              phone                             email  client_id  order_id order_date  order_week  order_year  unit_price  unit_cost  unit_weight  qty  line_number  line_subtotal  total_weight  shipping_price  line_price  line_cost\n",
      " Donald Harding    Immunologist 793-904-7725x39308  harding.donald.7185@sullivan.com      58515   8953482 2023-04-28          17        2023     1096.80     762.71         7.50  105            1      115164.00        787.50         5512.50   120676.50   80084.55\n",
      "Tiffany   Myers Music therapist   201.442.4543x942 myers.t.6537@ferguson-johnson.net      37609   8069089 2023-05-19          20        2023       24.95      15.09         1.49   21            0         523.95         31.29          312.90      836.85     316.89\n",
      "Shannon  Watson    Immunologist  687.737.9424x8503             swatson8146@payne.net      57113   1902144 2023-01-29           4        2023       13.52       7.86         1.68   39            6         527.28         65.52          458.64      985.92     306.54\n"
     ]
    }
   ],
   "source": [
    "# Create a column for the cost\n",
    "# of each line using unit cost, qty, and\n",
    "# shipping price (assume the shipping cost\n",
    "# is exactly what is charged to the client).\n",
    "\n",
    "df['line_cost'] = df['unit_cost'] * df['qty']\n",
    "\n",
    "df['total_price'] = df['line_cost'] + df['shipping_price']\n",
    "\n",
    "print(df[['first', 'last', 'job', 'phone', 'email', 'client_id', 'order_id', 'order_date', 'order_week', 'order_year',\n",
    "        'unit_price', 'unit_cost', 'unit_weight', 'qty', 'line_number', 'line_subtotal', 'total_weight',\n",
    "        'shipping_price', 'line_price', 'line_cost']].head(3).to_string(index=False, float_format=\"{:.2f}\".format))"
   ]
  },
  {
   "cell_type": "code",
   "execution_count": 42,
   "id": "e2389018",
   "metadata": {},
   "outputs": [
    {
     "name": "stdout",
     "output_type": "stream",
     "text": [
      "  first    last             job              phone                             email  client_id  order_id order_date  order_week  order_year  unit_price  unit_cost  unit_weight  qty  line_number  line_subtotal  total_weight  shipping_price  line_price  line_cost  line_profit\n",
      " Donald Harding    Immunologist 793-904-7725x39308  harding.donald.7185@sullivan.com      58515   8953482 2023-04-28          17        2023     1096.80     762.71         7.50  105            1      115164.00        787.50         5512.50   120676.50   80084.55     35079.45\n",
      "Tiffany   Myers Music therapist   201.442.4543x942 myers.t.6537@ferguson-johnson.net      37609   8069089 2023-05-19          20        2023       24.95      15.09         1.49   21            0         523.95         31.29          312.90      836.85     316.89       207.06\n",
      "Shannon  Watson    Immunologist  687.737.9424x8503             swatson8146@payne.net      57113   1902144 2023-01-29           4        2023       13.52       7.86         1.68   39            6         527.28         65.52          458.64      985.92     306.54       220.74\n"
     ]
    }
   ],
   "source": [
    "# Create a column for the profit of\n",
    "# each line using line cost and line price\n",
    "df['line_profit'] = df['subtotal'] - df['line_cost']\n",
    "\n",
    "#print(df)\n",
    "print(df[['first', 'last', 'job', 'phone', 'email', 'client_id', 'order_id', 'order_date', 'order_week', 'order_year',\n",
    "        'unit_price', 'unit_cost', 'unit_weight', 'qty', 'line_number', 'line_subtotal', 'total_weight',\n",
    "        'shipping_price', 'line_price', 'line_cost', 'line_profit']].head(3).to_string(index=False, float_format=\"{:.2f}\".format))\n",
    "\n"
   ]
  },
  {
   "cell_type": "markdown",
   "id": "ef6f62b1",
   "metadata": {},
   "source": [
    "## Part 3: Confirm your work\n",
    "You have email receipts showing that the total prices for 3 orders. Confirm that your calculations match the receipts. Remember, each order has multiple lines.\n",
    "\n",
    "Order ID 2742071 had a total price of \\$152,811.89\n",
    "\n",
    "Order ID 2173913 had a total price of \\$162,388.71\n",
    "\n",
    "Order ID 6128929 had a total price of \\$923,441.25\n"
   ]
  },
  {
   "cell_type": "code",
   "execution_count": 49,
   "id": "c0e5d68e",
   "metadata": {},
   "outputs": [
    {
     "name": "stdout",
     "output_type": "stream",
     "text": [
      "Calculated Total Prices:\n",
      "Order 2173913 total: $162388.72\n",
      "Order 2742071 total: $152811.90\n",
      "Order 6128929 total: $923441.24\n"
     ]
    }
   ],
   "source": [
    "# Check your work using the totals above\n",
    "order_ids_to_check = [2742071, 2173913, 6128929]\n",
    "filtered_orders = df[df['order_id'].isin(order_ids_to_check)].copy()\n",
    "\n",
    "filtered_orders['total_price_with_tax'] = filtered_orders['total_price_with_tax'].fillna(0)\n",
    "total_prices = filtered_orders.groupby('order_id')['total_price_with_tax'].sum()\n",
    "\n",
    "print(\"Calculated Total Prices:\")\n",
    "for order_id, total_price in total_prices.items():\n",
    "    print(f\"Order {order_id} total: ${total_price:.2f}\")\n",
    "\n"
   ]
  },
  {
   "cell_type": "markdown",
   "id": "b94d58ab",
   "metadata": {},
   "source": [
    "## Part 4: Summarize and Analyze\n",
    "Use the new columns with confirmed values to find the following information."
   ]
  },
  {
   "cell_type": "code",
   "execution_count": 58,
   "id": "7c005f34",
   "metadata": {},
   "outputs": [
    {
     "name": "stdout",
     "output_type": "stream",
     "text": [
      "24741: $82268891.98\n",
      "33615: $8377308.57\n",
      "38378: $12906550.88\n",
      "46820: $9743794.32\n",
      "66037: $10259514.80\n"
     ]
    }
   ],
   "source": [
    "# How much did each of the top 5 clients by quantity\n",
    "# spend? Check your work from Part 1 for client ids.\n",
    "\n",
    "top_clients = df['client_id'].value_counts().head()\n",
    "\n",
    "top_clients_orders = df[df['client_id'].isin(top_clients.index)].copy()\n",
    "\n",
    "top_clients_orders['total_spent_with_tax'] = top_clients_orders['total_price_with_tax'].fillna(0)\n",
    "total_spent_by_client = top_clients_orders.groupby('client_id')['total_spent_with_tax'].sum()\n",
    "\n",
    "for client_id, total_spent in total_spent_by_client.items():\n",
    "    print(f\"{client_id}: ${total_spent:.2f}\")\n"
   ]
  },
  {
   "cell_type": "code",
   "execution_count": 68,
   "id": "81b6e4d2",
   "metadata": {},
   "outputs": [
    {
     "name": "stdout",
     "output_type": "stream",
     "text": [
      "client_id\tqty\tshipping_price\tline_price\tline_cost\tline_profit\n",
      "78965\t4033302.0\t5340756.88\t600387798.68\t403230070.71\t191816971.09\n",
      "85931\t644423.0\t10122549.19\t217315333.11\t118000323.41\t89192460.51\n",
      "24741\t239862.0\t5126448.37\t75303333.62\t40562451.34\t29614433.91\n",
      "38473\t402770.0\t4391003.73\t168011507.38\t135809841.41\t27810662.24\n",
      "86721\t1010426.0\t64335727.72\t165918807.39\t73955873.86\t27627205.81\n"
     ]
    }
   ],
   "source": [
    "# Create a summary DataFrame showing the totals for the\n",
    "# for the top 5 clients with the following information:\n",
    "# total units purchased, total shipping price,\n",
    "# total revenue, and total profit. Sort by total profit.\n",
    "\n",
    "grouped_by_client = df.groupby('client_id')\n",
    "\n",
    "summary_df = pd.DataFrame({\n",
    "    'qty': grouped_by_client['qty'].sum(),\n",
    "    'shipping_price': grouped_by_client['shipping_price'].sum(),\n",
    "    'line_price': grouped_by_client['total_price'].sum(),\n",
    "    'line_cost': grouped_by_client['line_cost'].sum(),\n",
    "    'line_profit': grouped_by_client.apply(lambda x: (x['subtotal'] - x['line_cost']).sum())\n",
    "})\n",
    "\n",
    "top_5_clients_summary = summary_df.nlargest(5, 'line_profit')\n",
    "\n",
    "print(\"client_id\\tqty\\tshipping_price\\tline_price\\tline_cost\\tline_profit\")\n",
    "for client_id, row in top_5_clients_summary.iterrows():\n",
    "    print(f\"{client_id}\\t{row['qty']}\\t{row['shipping_price']:.2f}\\t{row['line_price']:.2f}\\t{row['line_cost']:.2f}\\t{row['line_profit']:.2f}\")\n"
   ]
  },
  {
   "cell_type": "code",
   "execution_count": 73,
   "id": "7be02867",
   "metadata": {},
   "outputs": [
    {
     "name": "stdout",
     "output_type": "stream",
     "text": [
      "Formatted and Renamed Summary DataFrame for the top 5 clients:\n",
      "           Total Units Purchased (Millions)  Total Shipping Price (Millions)  \\\n",
      "client_id                                                                      \n",
      "78965                              4.033302                         5.340757   \n",
      "85931                              0.644423                        10.122549   \n",
      "24741                              0.239862                         5.126448   \n",
      "38473                              0.402770                         4.391004   \n",
      "86721                              1.010426                        64.335728   \n",
      "\n",
      "           Total Revenue (Millions)  Total Profit (Millions)  line_profit  \n",
      "client_id                                                                  \n",
      "78965                    600.387799               403.230071   191.816971  \n",
      "85931                    217.315333               118.000323    89.192461  \n",
      "24741                     75.303334                40.562451    29.614434  \n",
      "38473                    168.011507               135.809841    27.810662  \n",
      "86721                    165.918807                73.955874    27.627206  \n"
     ]
    }
   ],
   "source": [
    "# Format the data and rename the columns\n",
    "# to names suitable for presentation.\n",
    "# Currency should be in millions of dollars.\n",
    "\n",
    "# Convert the values to millions\n",
    "top_5_clients_summary_millions = top_5_clients_summary / 1000000\n",
    "\n",
    "# Create a new DataFrame with adjusted column names\n",
    "adjusted_column_names = ['Total Units Purchased (Millions)', \n",
    "                        'Total Shipping Price (Millions)', \n",
    "                        'Total Revenue (Millions)', \n",
    "                        'Total Profit (Millions)']\n",
    "formatted_summary = top_5_clients_summary_millions.rename(columns=dict(zip(top_5_clients_summary_millions.columns, adjusted_column_names)))\n",
    "\n",
    "print(\"Formatted and Renamed Summary DataFrame for the top 5 clients:\")\n",
    "print(formatted_summary)\n"
   ]
  },
  {
   "cell_type": "code",
   "execution_count": 36,
   "id": "8ead0986",
   "metadata": {},
   "outputs": [
    {
     "name": "stdout",
     "output_type": "stream",
     "text": [
      "Sorted Summary DataFrame by Total Profit (from highest to lowest):\n",
      "           Total Units Purchased (Millions)  Total Shipping Price (Millions)  \\\n",
      "client_id                                                                      \n",
      "78965                              4.033302                         5.340757   \n",
      "85931                              0.644423                        10.122549   \n",
      "24741                              0.239862                         5.126448   \n",
      "38473                              0.402770                         4.391004   \n",
      "86721                              1.010426                        64.335728   \n",
      "\n",
      "           Total Revenue (Millions)  Total Profit (Millions)  \n",
      "client_id                                                     \n",
      "78965                    408.570828               191.816971  \n",
      "85931                    128.122873                89.192461  \n",
      "24741                     45.688900                29.614434  \n",
      "38473                    140.200845                27.810662  \n",
      "86721                    138.291602                27.627206  \n"
     ]
    }
   ],
   "source": [
    "# Sort the updated data by \"Total Profit\" form highest to lowest\n",
    "top_5_clients_summary_sorted = top_5_clients_summary_millions.sort_values(by='Total Profit (Millions)', ascending=False)\n",
    "\n",
    "print(\"Sorted Summary DataFrame by Total Profit (from highest to lowest):\")\n",
    "print(top_5_clients_summary_sorted)\n"
   ]
  },
  {
   "cell_type": "code",
   "execution_count": null,
   "id": "6589d63c",
   "metadata": {},
   "outputs": [],
   "source": []
  }
 ],
 "metadata": {
  "kernelspec": {
   "display_name": "Python 3 (ipykernel)",
   "language": "python",
   "name": "python3"
  },
  "language_info": {
   "codemirror_mode": {
    "name": "ipython",
    "version": 3
   },
   "file_extension": ".py",
   "mimetype": "text/x-python",
   "name": "python",
   "nbconvert_exporter": "python",
   "pygments_lexer": "ipython3",
   "version": "3.11.5"
  }
 },
 "nbformat": 4,
 "nbformat_minor": 5
}
